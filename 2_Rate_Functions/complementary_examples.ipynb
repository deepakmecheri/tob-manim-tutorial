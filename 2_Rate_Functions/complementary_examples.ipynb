{
 "cells": [
  {
   "cell_type": "code",
   "execution_count": 1,
   "metadata": {},
   "outputs": [
    {
     "data": {
      "text/html": [
       "<pre style=\"white-space:pre;overflow-x:auto;line-height:normal;font-family:Menlo,'DejaVu Sans Mono',consolas,'Courier New',monospace\">Manim Community <span style=\"color: #008000; text-decoration-color: #008000\">v0.18.0</span>\n",
       "\n",
       "</pre>\n"
      ],
      "text/plain": [
       "Manim Community \u001b[32mv0.\u001b[0m\u001b[32m18.0\u001b[0m\n",
       "\n"
      ]
     },
     "metadata": {},
     "output_type": "display_data"
    }
   ],
   "source": [
    "from manim import *\n",
    "config.media_width = \"100%\"\n",
    "\n",
    "ri = \"-s --disable_caching -v WARNING Example\"\n",
    "rv = \"-qm --disable_caching -v WARNING Example\""
   ]
  },
  {
   "cell_type": "markdown",
   "metadata": {},
   "source": [
    "# Start animations in the middle of others"
   ]
  },
  {
   "cell_type": "markdown",
   "metadata": {},
   "source": [
    "We'll cover this in more detail in the next Intermediate Manim course, in the **AnimationGroup** chapter, but for now we can use this function to make one animation start in the middle of another."
   ]
  },
  {
   "cell_type": "code",
   "execution_count": 2,
   "metadata": {},
   "outputs": [],
   "source": [
    "def custom_time(t,partitions,start,end,func):\n",
    "    duration = end - start\n",
    "    fragment_time = 1 / partitions\n",
    "    start_time = start * fragment_time\n",
    "    end_time = end * fragment_time\n",
    "    duration_time = duration * fragment_time\n",
    "    def fix_time(x):\n",
    "        return (x - start_time) / duration_time\n",
    "    if t < start_time: \n",
    "        return func(fix_time(start_time))\n",
    "    elif start_time <= t < end_time:\n",
    "        return func(fix_time(t))\n",
    "    else:\n",
    "        return func(fix_time(end_time))\n",
    "\n",
    "def Custom(partitions,start,end,func=smooth):\n",
    "    return lambda t: custom_time(t,partitions,start,end,func)"
   ]
  },
  {
   "cell_type": "code",
   "execution_count": 3,
   "metadata": {},
   "outputs": [
    {
     "name": "stderr",
     "output_type": "stream",
     "text": [
      "                                                                                    \r"
     ]
    },
    {
     "data": {
      "text/html": [
       "<video src=\"media/jupyter/Example@2024-04-06@18-47-11.mp4\" controls autoplay loop style=\"max-width: 100%;\"  >\n",
       "      Your browser does not support the <code>video</code> element.\n",
       "    </video>"
      ],
      "text/plain": [
       "<IPython.core.display.Video object>"
      ]
     },
     "metadata": {},
     "output_type": "display_data"
    }
   ],
   "source": [
    "%%manim $rv\n",
    "\n",
    "class Example(Scene):\n",
    "    def construct(self):\n",
    "        c = Circle().scale(2)\n",
    "        s = Square().scale(2)\n",
    "        l = Line(DOWN,UP).scale(2)\n",
    "        self.play(\n",
    "            # 6 partitions, that is (total_time = 4):\n",
    "            # ShowCreation starts at t=(0/6)*total_time=0s and end t=(5/6)*total_time=3.333s\n",
    "            Create(c,  rate_func=Custom(6,0,5)),\n",
    "            # GrowFromCenter starts at t=(2/6)*total_time=1.3333s and end t=(4/6)*total_time=2.6666s\n",
    "            GrowFromCenter(s, rate_func=Custom(6,2,4,func=there_and_back)),\n",
    "            # GrowFromEdge starts at t=(4/6)*total_time=2.6666s and end t=(6/6)*total_time=4s\n",
    "            GrowFromEdge(l,DOWN,rate_func=Custom(6,4,6)),\n",
    "            run_time=4 # <- total_time\n",
    "            )\n",
    "        self.wait()"
   ]
  }
 ],
 "metadata": {
  "interpreter": {
   "hash": "659fcb5ecd3da9795ce42989ccb6a96d00fdb87ed448b82184be25a990041bf3"
  },
  "kernelspec": {
   "display_name": "Python 3 (ipykernel)",
   "language": "python",
   "name": "python3"
  },
  "language_info": {
   "codemirror_mode": {
    "name": "ipython",
    "version": 3
   },
   "file_extension": ".py",
   "mimetype": "text/x-python",
   "name": "python",
   "nbconvert_exporter": "python",
   "pygments_lexer": "ipython3",
   "version": "3.10.13"
  }
 },
 "nbformat": 4,
 "nbformat_minor": 2
}
